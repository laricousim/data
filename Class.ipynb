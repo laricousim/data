{
 "cells": [
  {
   "cell_type": "code",
   "execution_count": 1,
   "id": "6b8932fe",
   "metadata": {},
   "outputs": [
    {
     "name": "stdout",
     "output_type": "stream",
     "text": [
      "4\n"
     ]
    }
   ],
   "source": [
    "print (2+2)"
   ]
  },
  {
   "cell_type": "code",
   "execution_count": 3,
   "id": "ee6559d5",
   "metadata": {},
   "outputs": [],
   "source": [
    "import pandas as pd"
   ]
  },
  {
   "cell_type": "code",
   "execution_count": 4,
   "id": "8a2215af",
   "metadata": {},
   "outputs": [
    {
     "name": "stdout",
     "output_type": "stream",
     "text": [
      "       Name  Age   State\n",
      "0     Jafar   21   Lagos\n",
      "1      Anas   12  London\n",
      "2    Anisah   13    Ogun\n",
      "3  Marusoft   40     Imo\n"
     ]
    }
   ],
   "source": [
    "users = {'Name': ['Jafar', 'Anas', 'Anisah', 'Marusoft'],\n",
    "         'Age': [21, 12, 13, 40],\n",
    "         'State': ['Lagos', 'London', 'Ogun', 'Imo']}\n",
    "\n",
    "db = pd.DataFrame(users)\n",
    "\n",
    "print(db)"
   ]
  }
 ],
 "metadata": {
  "kernelspec": {
   "display_name": "Python 3 (ipykernel)",
   "language": "python",
   "name": "python3"
  },
  "language_info": {
   "codemirror_mode": {
    "name": "ipython",
    "version": 3
   },
   "file_extension": ".py",
   "mimetype": "text/x-python",
   "name": "python",
   "nbconvert_exporter": "python",
   "pygments_lexer": "ipython3",
   "version": "3.12.0"
  }
 },
 "nbformat": 4,
 "nbformat_minor": 5
}
